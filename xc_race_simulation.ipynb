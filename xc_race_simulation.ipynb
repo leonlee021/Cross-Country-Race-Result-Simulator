{
 "cells": [
  {
   "cell_type": "code",
   "execution_count": 27,
   "metadata": {},
   "outputs": [],
   "source": [
    "# KAIAC is the Korean-American Interscholastic Activities Conference, and is the sports conference that Seoul\n",
    "# Foreign High School competes in for cross-country.\n",
    "\n",
    "# kaiac_runners is a list of the top 27 fastest runnners during the 2019 KAIAC season.\n",
    "\n",
    "kaiac_runners = [['Sean', 4.5, 2.3, 0], ['Ben', 10.25, 3.7, 0], ['Kevin', 4.75, 1.3, 0], \n",
    "                 ['Won', 1.5, 0.5, 0], ['Tim', 3.5, 2.7, 0], ['Devyn', 4.25, 2.8, 0], \n",
    "                 ['Francesco',3.75,2.5, 0], ['Thomas',4.75 , 1.8, 0],['Patrick', 7,3.1, 0],\n",
    "                 ['James', 7, 4, 0],['Ian', 6.25, 2.6, 0], ['Manny', 9.25, 5.3, 0],\n",
    "                 ['Chris', 13.75,5.5, 0], ['Alex', 11.25, 4, 0],['Sawyer', 11.66,1.2, 0],\n",
    "                 ['Jacob', 12, 2.1, 0],['Harrison',13.75,4.3,0],['Eric',13.25,0.43,0],\n",
    "                 ['David',12.33,1.88,0],['Justin',16,1.41,0],['Carl',12.33,3.29,0],\n",
    "                 ['Timothy',18.25,5.53,0],['Brandon',24.5,2.5,0],['Ryan',20.33,3.39,0],\n",
    "                 ['Danny',13.75,3.41,0],['Lance',17,4.84,0],['Hunter',21.75,4.71,0]]\n",
    "\n",
    "# Every item in the list represents an individual runner. His name is placed in index 0, his average race placing \n",
    "# is in index 1, and the standard deviation of all of his past race placings are in index 2. The number \"0\" is \n",
    "# initially placed in index 3, which will later be replaced by a generated value used to determine his simulated race \n",
    "# placing. "
   ]
  },
  {
   "cell_type": "code",
   "execution_count": 30,
   "metadata": {},
   "outputs": [],
   "source": [
    "import random\n",
    "\n",
    "def gen_value(runners_list):\n",
    "    # Generate a numerical value of each runner, to determine their placing in the simulated race\n",
    "    index=0\n",
    "    for i in runners_list:\n",
    "        runners_list[index][3] = random.normalvariate(runners_list[index][1],runners_list[index][2])\n",
    "        # The random.normalvariate() function is used, allowing a random value to be generated along the normal \n",
    "        # distribution curve according to the mean and standard deviation of each individual runner. This random\n",
    "        # value is placed in index 3.\n",
    "        index=index+1\n",
    "        continue\n",
    "\n",
    "def bubblesort(runners_list):\n",
    "    # A function to arrange the runners in ascending order according to their generated value is written using\n",
    "    # a bubble sorting method. This will thus allow us to see the order in which the simulated race finishes,\n",
    "    # from the first place runner to the last.\n",
    "    for i in range (0,len(runners_list)-1):\n",
    "        for j in range (0, len(runners_list)-1-i):\n",
    "            if runners_list[j][3] > runners_list[j+1][3]:\n",
    "                runners_list[j], runners_list[j+1] = runners_list[j+1], runners_list[j]\n",
    "    return runners_list\n"
   ]
  },
  {
   "cell_type": "code",
   "execution_count": 33,
   "metadata": {},
   "outputs": [],
   "source": [
    "gen_value(kaiac_runners)\n",
    "# The list of KAIAC runners is passed to the function generating a value for each runner.  "
   ]
  },
  {
   "cell_type": "code",
   "execution_count": 35,
   "metadata": {
    "scrolled": true
   },
   "outputs": [
    {
     "data": {
      "text/plain": [
       "[['Sean', 4.5, 2.3, 6.325987988770185],\n",
       " ['Ben', 10.25, 3.7, 9.632102088385558],\n",
       " ['Kevin', 4.75, 1.3, 4.3596813118413245],\n",
       " ['Won', 1.5, 0.5, 0.7807324783802119],\n",
       " ['Tim', 3.5, 2.7, 4.888246893042911],\n",
       " ['Devyn', 4.25, 2.8, 4.487589529914302],\n",
       " ['Francesco', 3.75, 2.5, 1.5137128587955448],\n",
       " ['Thomas', 4.75, 1.8, 8.396499472724948],\n",
       " ['Patrick', 7, 3.1, 3.483118794250168],\n",
       " ['James', 7, 4, 8.897417103029195],\n",
       " ['Ian', 6.25, 2.6, 10.174993232063805],\n",
       " ['Manny', 9.25, 5.3, 7.9507740898637485],\n",
       " ['Chris', 13.75, 5.5, 4.888953382956032],\n",
       " ['Alex', 11.25, 4, 7.297953354041299],\n",
       " ['Sawyer', 11.66, 1.2, 11.387765899384314],\n",
       " ['Jacob', 12, 2.1, 12.357881868033555],\n",
       " ['Harrison', 13.75, 4.3, 5.194282546171136],\n",
       " ['Eric', 13.25, 0.43, 13.712133206146557],\n",
       " ['David', 12.33, 1.88, 7.509297273602929],\n",
       " ['Justin', 16, 1.41, 15.662517454009935],\n",
       " ['Carl', 12.33, 3.29, 11.532697873666573],\n",
       " ['Timothy', 18.25, 5.53, 11.313815138302697],\n",
       " ['Brandon', 24.5, 2.5, 27.3876553653157],\n",
       " ['Ryan', 20.33, 3.39, 24.716738813795843],\n",
       " ['Danny', 13.75, 3.41, 19.808756531288896],\n",
       " ['Lance', 17, 4.84, 20.34220452863669],\n",
       " ['Hunter', 21.75, 4.71, 24.550810691806944]]"
      ]
     },
     "execution_count": 35,
     "metadata": {},
     "output_type": "execute_result"
    }
   ],
   "source": [
    "kaiac_runners\n",
    "\n",
    "# kaiac_runners is printed to observe index 3 of each runner, which should now be filled with a pseudo-randomly\n",
    "# generated value. "
   ]
  },
  {
   "cell_type": "code",
   "execution_count": 38,
   "metadata": {
    "scrolled": true
   },
   "outputs": [
    {
     "data": {
      "text/plain": [
       "[['Won', 1.5, 0.5, 0.7807324783802119],\n",
       " ['Francesco', 3.75, 2.5, 1.5137128587955448],\n",
       " ['Patrick', 7, 3.1, 3.483118794250168],\n",
       " ['Kevin', 4.75, 1.3, 4.3596813118413245],\n",
       " ['Devyn', 4.25, 2.8, 4.487589529914302],\n",
       " ['Tim', 3.5, 2.7, 4.888246893042911],\n",
       " ['Chris', 13.75, 5.5, 4.888953382956032],\n",
       " ['Harrison', 13.75, 4.3, 5.194282546171136],\n",
       " ['Sean', 4.5, 2.3, 6.325987988770185],\n",
       " ['Alex', 11.25, 4, 7.297953354041299],\n",
       " ['David', 12.33, 1.88, 7.509297273602929],\n",
       " ['Manny', 9.25, 5.3, 7.9507740898637485],\n",
       " ['Thomas', 4.75, 1.8, 8.396499472724948],\n",
       " ['James', 7, 4, 8.897417103029195],\n",
       " ['Ben', 10.25, 3.7, 9.632102088385558],\n",
       " ['Ian', 6.25, 2.6, 10.174993232063805],\n",
       " ['Timothy', 18.25, 5.53, 11.313815138302697],\n",
       " ['Sawyer', 11.66, 1.2, 11.387765899384314],\n",
       " ['Carl', 12.33, 3.29, 11.532697873666573],\n",
       " ['Jacob', 12, 2.1, 12.357881868033555],\n",
       " ['Eric', 13.25, 0.43, 13.712133206146557],\n",
       " ['Justin', 16, 1.41, 15.662517454009935],\n",
       " ['Danny', 13.75, 3.41, 19.808756531288896],\n",
       " ['Lance', 17, 4.84, 20.34220452863669],\n",
       " ['Hunter', 21.75, 4.71, 24.550810691806944],\n",
       " ['Ryan', 20.33, 3.39, 24.716738813795843],\n",
       " ['Brandon', 24.5, 2.5, 27.3876553653157]]"
      ]
     },
     "execution_count": 38,
     "metadata": {},
     "output_type": "execute_result"
    }
   ],
   "source": [
    "bubblesort(kaiac_runners)\n",
    "# kaiac_runners is then passed for the bubblesort() function, allowing a visualization of the rankings in which the\n",
    "# simulated race finishes. Below, it can be seen that Won is simulated to finish in first place, Francesco in \n",
    "# second, Patrick third, etc."
   ]
  },
  {
   "cell_type": "code",
   "execution_count": null,
   "metadata": {},
   "outputs": [],
   "source": []
  }
 ],
 "metadata": {
  "kernelspec": {
   "display_name": "Python 3",
   "language": "python",
   "name": "python3"
  },
  "language_info": {
   "codemirror_mode": {
    "name": "ipython",
    "version": 3
   },
   "file_extension": ".py",
   "mimetype": "text/x-python",
   "name": "python",
   "nbconvert_exporter": "python",
   "pygments_lexer": "ipython3",
   "version": "3.7.4"
  }
 },
 "nbformat": 4,
 "nbformat_minor": 2
}
